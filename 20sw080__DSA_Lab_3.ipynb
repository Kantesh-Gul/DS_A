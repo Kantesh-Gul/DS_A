{
  "nbformat": 4,
  "nbformat_minor": 0,
  "metadata": {
    "colab": {
      "provenance": [],
      "authorship_tag": "ABX9TyMl2RH6cNCN+fzqss6nYwgP",
      "include_colab_link": true
    },
    "kernelspec": {
      "name": "python3",
      "display_name": "Python 3"
    },
    "language_info": {
      "name": "python"
    }
  },
  "cells": [
    {
      "cell_type": "markdown",
      "metadata": {
        "id": "view-in-github",
        "colab_type": "text"
      },
      "source": [
        "<a href=\"https://colab.research.google.com/github/Kantesh-Gul/DS_A/blob/main/20sw080__DSA_Lab_3.ipynb\" target=\"_parent\"><img src=\"https://colab.research.google.com/assets/colab-badge.svg\" alt=\"Open In Colab\"/></a>"
      ]
    },
    {
      "cell_type": "markdown",
      "source": [
        "# ***Task_1***"
      ],
      "metadata": {
        "id": "smx_PqOBJldM"
      }
    },
    {
      "cell_type": "code",
      "source": [
        " def population_density(population, land_area):\n",
        "    return population / land_area\n",
        "\n",
        "\n",
        " # test cases for your function\n",
        "test1 = population_density(10,1)\n",
        "expected_result1 = 16\n",
        "print(\"expected result: {}, actual result: {}\".format(expected_result1, test1))\n",
        "\n",
        "test2 = population_density(864816, 121.4)\n",
        "expected_result2 = 7123.6902801\n",
        "print(\"expected result: {}, actual result: {}\".format(expected_result2, test2))\n"
      ],
      "metadata": {
        "colab": {
          "base_uri": "https://localhost:8080/"
        },
        "id": "QXmag3S2JoDu",
        "outputId": "6c7bbb5b-6791-477d-fac6-62ce49cac28a"
      },
      "execution_count": null,
      "outputs": [
        {
          "output_type": "stream",
          "name": "stdout",
          "text": [
            "expected result: 16, actual result: 10.0\n",
            "expected result: 7123.6902801, actual result: 7123.690280065897\n"
          ]
        }
      ]
    },
    {
      "cell_type": "markdown",
      "source": [
        "# ***Task_2***"
      ],
      "metadata": {
        "id": "PpYOeRsWK3yG"
      }
    },
    {
      "cell_type": "code",
      "source": [
        "def readable_timedelta(days):\n",
        "    weeks = days // 7\n",
        "    remaining_days = days % 7\n",
        "    return \"{} week(s) and {} day(s)\".format(weeks, remaining_days)\n",
        "print(readable_timedelta(19))"
      ],
      "metadata": {
        "colab": {
          "base_uri": "https://localhost:8080/"
        },
        "id": "x2hQLsAwK8Vv",
        "outputId": "57c27bc0-0082-4dfb-d415-f6eba0e8d9f8"
      },
      "execution_count": null,
      "outputs": [
        {
          "output_type": "stream",
          "name": "stdout",
          "text": [
            "2 week(s) and 5 day(s)\n"
          ]
        }
      ]
    },
    {
      "cell_type": "markdown",
      "source": [
        "# ***Task_3***"
      ],
      "metadata": {
        "id": "Dzl0ruKYLYBL"
      }
    },
    {
      "cell_type": "code",
      "source": [
        "numbers = [\n",
        "    [34, 63, 88, 71, 29],\n",
        "    [90, 78, 51, 27, 45],\n",
        "    [63, 37, 85, 46, 22],\n",
        "    [51, 22, 34, 11, 18]\n",
        "]\n",
        "\n",
        "averages = list(map(lambda num_list: sum(num_list) / len(num_list), numbers))\n",
        "print(averages)\n"
      ],
      "metadata": {
        "colab": {
          "base_uri": "https://localhost:8080/"
        },
        "id": "Jumb1hDULdJY",
        "outputId": "557fa01f-5954-47c3-be9b-d4bba8ce0473"
      },
      "execution_count": null,
      "outputs": [
        {
          "output_type": "stream",
          "name": "stdout",
          "text": [
            "[57.0, 58.2, 50.6, 27.2]\n"
          ]
        }
      ]
    },
    {
      "cell_type": "markdown",
      "source": [
        "# ***Task_4***"
      ],
      "metadata": {
        "id": "qYyv9vuFMBJ1"
      }
    },
    {
      "cell_type": "code",
      "source": [
        "cities = [\"New York City\", \"Los Angeles\", \"Chicago\", \"Mountain View\", \"Denver\", \"Boston\"]\n",
        "\n",
        "short_cities = list(filter(lambda name: len(name) < 10, cities))\n",
        "print(short_cities)\n"
      ],
      "metadata": {
        "colab": {
          "base_uri": "https://localhost:8080/"
        },
        "id": "K9d9bfvcMEqv",
        "outputId": "9d663aef-8a33-43d3-9216-8aa827e1e825"
      },
      "execution_count": null,
      "outputs": [
        {
          "output_type": "stream",
          "name": "stdout",
          "text": [
            "['Chicago', 'Denver', 'Boston']\n"
          ]
        }
      ]
    },
    {
      "cell_type": "markdown",
      "source": [
        "# ***Task_5***"
      ],
      "metadata": {
        "id": "0N0KTAmsMZit"
      }
    },
    {
      "cell_type": "code",
      "source": [
        "# Get and process input for a list of names\n",
        "names_input = input(\"Enter a list of names separated by spaces: \")\n",
        "names = names_input.split()\n",
        "\n",
        "# Get and process input for a list of the number of assignments\n",
        "assignments_input = input(\"Enter a list of the number of missing assignments separated by spaces: \")\n",
        "assignments = list(map(int, assignments_input.split()))\n",
        "\n",
        "# Get and process input for a list of grades\n",
        "grades_input = input(\"Enter a list of grades separated by spaces: \")\n",
        "grades = list(map(int, grades_input.split()))\n",
        "\n",
        "# Message string to be used for each student\n",
        "message = \"Hi {},\\n\\nThis is a reminder that you have {} assignments left to \\\n",
        "submit before you can graduate. Your current grade is {} and can increase \\\n",
        "to {} if you submit all assignments before the due date.\\n\\n\"\n",
        "\n",
        "# Write a for loop that iterates through each set of names, assignments, and grades to print each student's message\n",
        "for name, assignment_count, grade in zip(names, assignments, grades):\n",
        "    potential_grade = grade + 2 * assignment_count\n",
        "    print(message.format(name, assignment_count, grade, potential_grade))\n"
      ],
      "metadata": {
        "colab": {
          "base_uri": "https://localhost:8080/"
        },
        "id": "ssiop1h_MzE_",
        "outputId": "1c2d485c-a3e4-453c-f55c-53aa228dee8e"
      },
      "execution_count": 3,
      "outputs": [
        {
          "output_type": "stream",
          "name": "stdout",
          "text": [
            "Enter a list of names separated by spaces: kantesh vinod\n",
            "Enter a list of the number of missing assignments separated by spaces: 3 5\n",
            "Enter a list of grades separated by spaces: 85 78\n",
            "Hi kantesh,\n",
            "\n",
            "This is a reminder that you have 3 assignments left to submit before you can graduate. Your current grade is 85 and can increase to 91 if you submit all assignments before the due date.\n",
            "\n",
            "\n",
            "Hi vinod,\n",
            "\n",
            "This is a reminder that you have 5 assignments left to submit before you can graduate. Your current grade is 78 and can increase to 88 if you submit all assignments before the due date.\n",
            "\n",
            "\n"
          ]
        }
      ]
    }
  ]
}