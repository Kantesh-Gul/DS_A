{
  "nbformat": 4,
  "nbformat_minor": 0,
  "metadata": {
    "colab": {
      "provenance": [],
      "authorship_tag": "ABX9TyMepDHiEbeg6X6idsRkd+Wq",
      "include_colab_link": true
    },
    "kernelspec": {
      "name": "python3",
      "display_name": "Python 3"
    },
    "language_info": {
      "name": "python"
    }
  },
  "cells": [
    {
      "cell_type": "markdown",
      "metadata": {
        "id": "view-in-github",
        "colab_type": "text"
      },
      "source": [
        "<a href=\"https://colab.research.google.com/github/Kantesh-Gul/DS_A/blob/main/20sw080_Lab_02_Tasks.ipynb\" target=\"_parent\"><img src=\"https://colab.research.google.com/assets/colab-badge.svg\" alt=\"Open In Colab\"/></a>"
      ]
    },
    {
      "cell_type": "code",
      "execution_count": null,
      "metadata": {
        "id": "MqO2vPxINHad"
      },
      "outputs": [],
      "source": []
    },
    {
      "cell_type": "markdown",
      "source": [
        "## ***Task-1***"
      ],
      "metadata": {
        "id": "WpGf-jxwNTG2"
      }
    },
    {
      "cell_type": "code",
      "source": [
        "points = 199\n",
        "\n",
        "if points >= 50 and points <= 150:\n",
        "    result = \"Congratulations! You won a wooden rabbit!\"\n",
        "elif points >= 151 and points <= 180:\n",
        "    result = \"Congratulations! You won a no prize!\"\n",
        "elif points >= 181 and points <= 200:\n",
        "    result = \"Congratulations! You won a wafer-thin mint!\"\n",
        "else:\n",
        "    result = \"Oh dear, no prize this time.\"\n",
        "\n",
        "print(result)\n"
      ],
      "metadata": {
        "colab": {
          "base_uri": "https://localhost:8080/"
        },
        "id": "nWKXX-gPNXK8",
        "outputId": "840cfb01-907c-492f-a980-55bb9e569b5f"
      },
      "execution_count": 2,
      "outputs": [
        {
          "output_type": "stream",
          "name": "stdout",
          "text": [
            "Congratulations! You won a wafer-thin mint!\n"
          ]
        }
      ]
    },
    {
      "cell_type": "markdown",
      "source": [
        "## ***Task-2***"
      ],
      "metadata": {
        "id": "F0t0aKAlPdBr"
      }
    },
    {
      "cell_type": "code",
      "source": [
        "\n",
        "answer = int(input(\"Enter the hidden number: \"))\n",
        "\n",
        "guess = int(input(\"Enter your guess: \"))\n",
        "\n",
        "if guess < answer:\n",
        "    result = \"Oops! Your guess was too low.\"\n",
        "elif guess > answer:\n",
        "    result = \"Oops! Your guess was too high.\"\n",
        "else:\n",
        "    result = \"Nice! Your guess matched the answer!\"\n",
        "\n",
        "print(result)\n",
        "\n"
      ],
      "metadata": {
        "colab": {
          "base_uri": "https://localhost:8080/"
        },
        "id": "JHH-6wAmPrm8",
        "outputId": "57fcaf13-751e-4047-84d2-32e9da78571a"
      },
      "execution_count": 15,
      "outputs": [
        {
          "output_type": "stream",
          "name": "stdout",
          "text": [
            "Enter the hidden number: 13\n",
            "Enter your guess: 19\n",
            "Oops! Your guess was too high.\n"
          ]
        }
      ]
    },
    {
      "cell_type": "markdown",
      "source": [
        "## ***Task-3***"
      ],
      "metadata": {
        "id": "WyzQRpudQLie"
      }
    },
    {
      "cell_type": "code",
      "source": [
        "def calculate_tax(purchase_amount, state):\n",
        "    # Define the tax rates for each state\n",
        "    tax_rates = {\n",
        "        \"CA\": 0.075,\n",
        "        \"MN\": 0.095,\n",
        "        \"NY\": 0.089\n",
        "    }\n",
        "\n",
        "    if state in tax_rates:\n",
        "\n",
        "        tax_amount = purchase_amount * tax_rates[state]\n",
        "        return tax_amount\n",
        "    else:\n",
        "\n",
        "        return 0\n",
        "\n",
        "purchase_amount =  135\n",
        "state = \"CA\"\n",
        "tax_amount = calculate_tax(purchase_amount, state)\n",
        "total_amount = purchase_amount + tax_amount\n",
        "print(f\"Purchase Amount: ${purchase_amount}\")\n",
        "print(f\"Tax Amount: ${tax_amount}\")\n",
        "print(f\"Total Amount: ${total_amount}\")\n"
      ],
      "metadata": {
        "colab": {
          "base_uri": "https://localhost:8080/"
        },
        "id": "ne4bm_ykQQaz",
        "outputId": "c14a2f85-b287-46d6-b436-ae0bc1fd057f"
      },
      "execution_count": 7,
      "outputs": [
        {
          "output_type": "stream",
          "name": "stdout",
          "text": [
            "Purchase Amount: $135\n",
            "Tax Amount: $10.125\n",
            "Total Amount: $145.125\n"
          ]
        }
      ]
    },
    {
      "cell_type": "markdown",
      "source": [
        "## ***Task-4***"
      ],
      "metadata": {
        "id": "iqPv5HXRRCdQ"
      }
    },
    {
      "cell_type": "code",
      "source": [
        "sentence = [\"the\", \"quick\", \"brown\", \"fox\", \"jumped\", \"over\", \"the\", \"lazy\", \"dog\"]\n",
        "\n",
        "for word in sentence:\n",
        "    print(word)"
      ],
      "metadata": {
        "colab": {
          "base_uri": "https://localhost:8080/"
        },
        "id": "7yiP-mVyRFuG",
        "outputId": "69b03cad-d190-4424-e808-32d2dc10cddb"
      },
      "execution_count": 8,
      "outputs": [
        {
          "output_type": "stream",
          "name": "stdout",
          "text": [
            "the\n",
            "quick\n",
            "brown\n",
            "fox\n",
            "jumped\n",
            "over\n",
            "the\n",
            "lazy\n",
            "dog\n"
          ]
        }
      ]
    },
    {
      "cell_type": "markdown",
      "source": [
        "## ***Task-5***"
      ],
      "metadata": {
        "id": "rj45qxtURy_N"
      }
    },
    {
      "cell_type": "code",
      "source": [
        "for num in range(5, 31, 5):\n",
        "    print(num)\n"
      ],
      "metadata": {
        "colab": {
          "base_uri": "https://localhost:8080/"
        },
        "id": "aLicryzGR1so",
        "outputId": "104ed784-36bd-4147-dab8-1a962ba6a73c"
      },
      "execution_count": 9,
      "outputs": [
        {
          "output_type": "stream",
          "name": "stdout",
          "text": [
            "5\n",
            "10\n",
            "15\n",
            "20\n",
            "25\n",
            "30\n"
          ]
        }
      ]
    },
    {
      "cell_type": "markdown",
      "source": [
        "## ***Task-6***"
      ],
      "metadata": {
        "id": "lD7k6gYNSFwX"
      }
    },
    {
      "cell_type": "code",
      "source": [
        "names = [\"Rick Sanchez\", \"Morty Smith\", \"Summer Smith\", \"Jerry Smith\", \"Beth Smith\"]\n",
        "\n",
        "first_names = [name.split()[0].lower() for name in names]\n",
        "\n",
        "print(first_names)\n"
      ],
      "metadata": {
        "colab": {
          "base_uri": "https://localhost:8080/"
        },
        "id": "7Rr5Otz8SJMQ",
        "outputId": "6ca421d6-f697-42ae-abe3-1d2977e61d22"
      },
      "execution_count": 10,
      "outputs": [
        {
          "output_type": "stream",
          "name": "stdout",
          "text": [
            "['rick', 'morty', 'summer', 'jerry', 'beth']\n"
          ]
        }
      ]
    },
    {
      "cell_type": "markdown",
      "source": [
        "## ***Task-7***"
      ],
      "metadata": {
        "id": "-mZlc1j1Sfva"
      }
    },
    {
      "cell_type": "code",
      "source": [
        "multiples_3 = [num * 3 for num in range(1, 21)]\n",
        "\n",
        "print(multiples_3)\n"
      ],
      "metadata": {
        "colab": {
          "base_uri": "https://localhost:8080/"
        },
        "id": "tIuoJ3OzSipJ",
        "outputId": "9c2756ea-ebf2-4b59-c67c-e52d380d3519"
      },
      "execution_count": 11,
      "outputs": [
        {
          "output_type": "stream",
          "name": "stdout",
          "text": [
            "[3, 6, 9, 12, 15, 18, 21, 24, 27, 30, 33, 36, 39, 42, 45, 48, 51, 54, 57, 60]\n"
          ]
        }
      ]
    },
    {
      "cell_type": "markdown",
      "source": [
        "## ***Task-8***"
      ],
      "metadata": {
        "id": "9UuK3dM1S_XR"
      }
    },
    {
      "cell_type": "code",
      "source": [
        "scores = {\n",
        "    \"Rick Sanchez\": 70,\n",
        "    \"Morty Smith\": 35,\n",
        "    \"Summer Smith\": 82,\n",
        "    \"Jerry Smith\": 23,\n",
        "    \"Beth Smith\": 98\n",
        "}\n",
        "\n",
        "passed = [name for name, score in scores.items() if score >= 65]\n",
        "\n",
        "print(passed)\n"
      ],
      "metadata": {
        "colab": {
          "base_uri": "https://localhost:8080/"
        },
        "id": "L8iVj71vTDqS",
        "outputId": "9630bc1a-73ad-4a1b-8da0-7aaaa78ed114"
      },
      "execution_count": 12,
      "outputs": [
        {
          "output_type": "stream",
          "name": "stdout",
          "text": [
            "['Rick Sanchez', 'Summer Smith', 'Beth Smith']\n"
          ]
        }
      ]
    },
    {
      "cell_type": "markdown",
      "source": [
        "## ***Task-9***"
      ],
      "metadata": {
        "id": "K79Ib_o_Tjzs"
      }
    },
    {
      "cell_type": "code",
      "source": [
        "cast_names = [\"Barney\", \"Robin\", \"Ted\", \"Lily\", \"Marshall\"]\n",
        "cast_heights = [72, 68, 72, 66, 76]\n",
        "\n",
        "cast = dict(zip(cast_names, cast_heights))\n",
        "\n",
        "print(cast)\n"
      ],
      "metadata": {
        "colab": {
          "base_uri": "https://localhost:8080/"
        },
        "id": "95jLjc4KTtjU",
        "outputId": "8fc91249-8938-4895-f136-b1d2c047afee"
      },
      "execution_count": 13,
      "outputs": [
        {
          "output_type": "stream",
          "name": "stdout",
          "text": [
            "{'Barney': 72, 'Robin': 68, 'Ted': 72, 'Lily': 66, 'Marshall': 76}\n"
          ]
        }
      ]
    },
    {
      "cell_type": "markdown",
      "source": [
        "## ***Task-10***"
      ],
      "metadata": {
        "id": "KRFBgXzJTztM"
      }
    },
    {
      "cell_type": "code",
      "source": [
        "cast = [\"Barney Stinson\", \"Robin Scherbatsky\", \"Ted Mosby\", \"Lily Aldrin\", \"Marshall Eriksen\"]\n",
        "heights = [72, 68, 72, 66, 76]\n",
        "\n",
        "for i, name in enumerate(cast):\n",
        "    cast[i] = name + str(heights[i])\n",
        "\n",
        "print(cast)\n"
      ],
      "metadata": {
        "colab": {
          "base_uri": "https://localhost:8080/"
        },
        "id": "2l9I_CZxT-2o",
        "outputId": "1f7cf385-d0b9-4a97-d485-f5855f6c95c0"
      },
      "execution_count": 14,
      "outputs": [
        {
          "output_type": "stream",
          "name": "stdout",
          "text": [
            "['Barney Stinson72', 'Robin Scherbatsky68', 'Ted Mosby72', 'Lily Aldrin66', 'Marshall Eriksen76']\n"
          ]
        }
      ]
    }
  ]
}