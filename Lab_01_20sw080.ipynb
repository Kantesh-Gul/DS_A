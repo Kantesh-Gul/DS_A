{
  "nbformat": 4,
  "nbformat_minor": 0,
  "metadata": {
    "colab": {
      "provenance": [],
      "authorship_tag": "ABX9TyOX2GQmn0Y/6EioahaKolKv",
      "include_colab_link": true
    },
    "kernelspec": {
      "name": "python3",
      "display_name": "Python 3"
    },
    "language_info": {
      "name": "python"
    }
  },
  "cells": [
    {
      "cell_type": "markdown",
      "metadata": {
        "id": "view-in-github",
        "colab_type": "text"
      },
      "source": [
        "<a href=\"https://colab.research.google.com/github/Kantesh-Gul/DS_A/blob/main/Lab_01_20sw080.ipynb\" target=\"_parent\"><img src=\"https://colab.research.google.com/assets/colab-badge.svg\" alt=\"Open In Colab\"/></a>"
      ]
    },
    {
      "cell_type": "code",
      "execution_count": null,
      "metadata": {
        "id": "MgqTrp_h2qnw"
      },
      "outputs": [],
      "source": []
    },
    {
      "cell_type": "markdown",
      "source": [
        "#Lab-1\n",
        "RollNO:- 20SW080\n",
        "\n"
      ],
      "metadata": {
        "id": "a0bG1lV8259L"
      }
    },
    {
      "cell_type": "code",
      "source": [],
      "metadata": {
        "id": "TU_sXCWp3DtR"
      },
      "execution_count": null,
      "outputs": []
    },
    {
      "cell_type": "markdown",
      "source": [
        "Task-1\n",
        ""
      ],
      "metadata": {
        "id": "MojP2LU53EsW"
      }
    },
    {
      "cell_type": "code",
      "source": [
        "variable1 = 10\n",
        "variable2 = \"Hello, World!\"\n",
        "\n",
        "print(\"The value of variable 1 is {} and the value of variable 2 is '{}'.\".format(variable1, variable2))\n"
      ],
      "metadata": {
        "colab": {
          "base_uri": "https://localhost:8080/"
        },
        "id": "h9WOV7AW3GlB",
        "outputId": "d531f04b-1662-4c91-d545-a94110ec90fe"
      },
      "execution_count": 1,
      "outputs": [
        {
          "output_type": "stream",
          "name": "stdout",
          "text": [
            "The value of variable 1 is 10 and the value of variable 2 is 'Hello, World!'.\n"
          ]
        }
      ]
    },
    {
      "cell_type": "markdown",
      "source": [
        "*Task-2*"
      ],
      "metadata": {
        "id": "tJiXx46b3ZpH"
      }
    },
    {
      "cell_type": "code",
      "source": [
        "my_string = \"Hello, World!\"\n",
        "\n",
        "# Using string methods\n",
        "uppercase_string = my_string.upper()\n",
        "lowercase_string = my_string.lower()\n",
        "split_string = my_string.split(\",\")\n",
        "\n",
        "# Printing the results\n",
        "print(\"Uppercase string:\", uppercase_string)\n",
        "print(\"Lowercase string:\", lowercase_string)\n",
        "print(\"Split string:\", split_string)\n"
      ],
      "metadata": {
        "colab": {
          "base_uri": "https://localhost:8080/"
        },
        "id": "aFQQNN6i3kK1",
        "outputId": "90d025d8-103c-454c-c3dc-b85735c092af"
      },
      "execution_count": 2,
      "outputs": [
        {
          "output_type": "stream",
          "name": "stdout",
          "text": [
            "Uppercase string: HELLO, WORLD!\n",
            "Lowercase string: hello, world!\n",
            "Split string: ['Hello', ' World!']\n"
          ]
        }
      ]
    },
    {
      "cell_type": "markdown",
      "source": [
        "Task-3"
      ],
      "metadata": {
        "id": "SWwsMp_439Ju"
      }
    },
    {
      "cell_type": "code",
      "source": [
        "month = 2\n",
        "days_in_month = [31,28,31,30,31,30,31,31,30,31,30,31]\n",
        "num_days=days_in_month[month-1]\n",
        "print(num_days)"
      ],
      "metadata": {
        "colab": {
          "base_uri": "https://localhost:8080/"
        },
        "id": "SoMDcl124AE1",
        "outputId": "ff269bef-f98f-45e4-bba8-b4cf76b82ff9"
      },
      "execution_count": 6,
      "outputs": [
        {
          "output_type": "stream",
          "name": "stdout",
          "text": [
            "28\n"
          ]
        }
      ]
    },
    {
      "cell_type": "markdown",
      "source": [
        "Task-4"
      ],
      "metadata": {
        "id": "CQDdbxxv4zOv"
      }
    },
    {
      "cell_type": "code",
      "source": [
        "eclipse_dates = ['June 21, 2001', 'December 4, 2002', 'November 23, 2003', 'March 29, 2006', 'August 1, 2008', 'July 22, 2009', 'July 11, 2010', 'November 13, 2012', 'March 20, 2015', 'March 9, 2016']\n",
        "\n",
        "\n",
        "print(eclipse_dates[-3:])\n"
      ],
      "metadata": {
        "colab": {
          "base_uri": "https://localhost:8080/"
        },
        "id": "HZW3hswM40yG",
        "outputId": "cabd6992-c823-4392-8a4f-2f07fe686790"
      },
      "execution_count": 7,
      "outputs": [
        {
          "output_type": "stream",
          "name": "stdout",
          "text": [
            "['November 13, 2012', 'March 20, 2015', 'March 9, 2016']\n"
          ]
        }
      ]
    },
    {
      "cell_type": "markdown",
      "source": [
        "Task-5"
      ],
      "metadata": {
        "id": "qRJI-2Mj5KhG"
      }
    },
    {
      "cell_type": "code",
      "source": [
        "students = {\n",
        "    'student1': {\n",
        "        'name': 'John',\n",
        "        'age': 20,\n",
        "        'grade': 'A'\n",
        "    },\n",
        "    'student2': {\n",
        "        'name': 'Emma',\n",
        "        'age': 19,\n",
        "        'grade': 'B'\n",
        "    },\n",
        "    'student3': {\n",
        "        'name': 'Michael',\n",
        "        'age': 21,\n",
        "        'grade': 'A+'\n",
        "    }\n",
        "}\n",
        "\n",
        "# Accessing student data\n",
        "print(\"Student 1:\")\n",
        "print(\"Name:\", students['student1']['name'])\n",
        "print(\"Age:\", students['student1']['age'])\n",
        "print(\"Grade:\", students['student1']['grade'])\n",
        "\n",
        "print(\"\\nStudent 2:\")\n",
        "print(\"Name:\", students['student2']['name'])\n",
        "print(\"Age:\", students['student2']['age'])\n",
        "print(\"Grade:\", students['student2']['grade'])\n",
        "\n",
        "print(\"\\nStudent 3:\")\n",
        "print(\"Name:\", students['student3']['name'])\n",
        "print(\"Age:\", students['student3']['age'])\n",
        "print(\"Grade:\", students['student3']['grade'])\n"
      ],
      "metadata": {
        "colab": {
          "base_uri": "https://localhost:8080/"
        },
        "id": "7ETCpvnP5MG8",
        "outputId": "c89e658a-d5f3-4961-f02a-7d5870bc5341"
      },
      "execution_count": 8,
      "outputs": [
        {
          "output_type": "stream",
          "name": "stdout",
          "text": [
            "Student 1:\n",
            "Name: John\n",
            "Age: 20\n",
            "Grade: A\n",
            "\n",
            "Student 2:\n",
            "Name: Emma\n",
            "Age: 19\n",
            "Grade: B\n",
            "\n",
            "Student 3:\n",
            "Name: Michael\n",
            "Age: 21\n",
            "Grade: A+\n"
          ]
        }
      ]
    }
  ]
}